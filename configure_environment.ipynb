{
 "cells": [
  {
   "cell_type": "markdown",
   "metadata": {
    "tags": []
   },
   "source": [
    "# Configure your Jupyter Environment\n",
    "\n",
    "The following notebook can be used to configure your Jupyter environment.  The product of running this notebook are the following two files:\n",
    "\n",
    "- `fabric_rc`:  Used to configure a FABlib application.  \n",
    "- `ssh_config`: Used to ssh from from a terminal to FABRIC VM by jumping through the FABRIC bastion host. \n",
    "\n",
    "\n",
    "## Copy your Bastion Key to your JupyterLab Environment\n",
    "\n",
    "In order to minimize security incidents on FABRIC, access to VMs and other resources administered by users is controlled using a bastion host. You will need to set up an ssh keypair that will be used to jump through the bastion host to your VMs and other resources. This keypair is unique to you and is only used to set up ssh proxy connections through the bastion host to your FABRIC resources. \n",
    "\n",
    "The following notebook walks through creating and submitting a bastion keypair necessary to use FABRIC. More information about how to access your experiment through the bastion host can be found [here](https://learn.fabric-testbed.net/knowledge-base/logging-into-fabric-vms/).\n",
    "\n",
    "If you have not created a bastion host keypair, create a new one in the [Experiments](https://portal.fabric-testbed.net/experiments#sshKeys) section of the FABRIC Portal.\n",
    "\n",
    "Copy your bastion private key to your Jupyter container. Drag/drop your key from your local machine to the file browser in your Juypyter browser window. Note the name of your key and location where you put it."
   ]
  },
  {
   "cell_type": "markdown",
   "metadata": {
    "tags": []
   },
   "source": [
    "## Set Bastion Username and Project ID\n",
    "\n",
    "Edit the following cell by entering your FABRIC bastion username and the correct path to the copy of your bastion private key in your Jupyter container.  \n",
    "\n",
    "- Your bastion user name can be found on your [user profile page](https://portal.fabric-testbed.net/user) in the FABRIC portal (click \"My SSH Keys\").\n",
    "- The path to your bastion key was determined when you copied it to the Jupyter container.  \n",
    "\n",
    "The Project ID can be from any of your projects. The ID can be found on the [projects](https://portal.fabric-testbed.net/projects) tab in the FABRIC portal."
   ]
  },
  {
   "cell_type": "code",
   "execution_count": 1,
   "metadata": {
    "tags": []
   },
   "outputs": [],
   "source": [
    "export FABRIC_BASTION_USERNAME='gsinkins_0000025334'\n",
    "export FABRIC_PROJECT_ID='6ce270de-788d-4e07-8bae-3206860a6387'\n",
    "export FABRIC_BASTION_PRIVATE_KEY_LOCATION=${HOME}/work/fabric_config/fabric_bastion_key"
   ]
  },
  {
   "cell_type": "markdown",
   "metadata": {},
   "source": [
    "## Set other Tokens and Keys\n",
    "\n",
    "The the path to where you put your bastion key.The defaults below should work within the Jupyter environment hosted by FABRIC.  Custom installations will require modifications to this configuration.\n"
   ]
  },
  {
   "cell_type": "code",
   "execution_count": 2,
   "metadata": {},
   "outputs": [],
   "source": [
    "export FABRIC_TOKEN_FILE=${HOME}'/.tokens.json'\n",
    "export FABRIC_SLICE_PRIVATE_KEY_FILE=${HOME}/work/fabric_config/slice_key\n",
    "export FABRIC_SLICE_PUBLIC_KEY_FILE=${HOME}/work/fabric_config/slice_key.pub"
   ]
  },
  {
   "cell_type": "markdown",
   "metadata": {},
   "source": [
    "\n",
    "\n",
    "Set the Permissions on your Bastion Key. Your private bastion key must not have it permissions too open."
   ]
  },
  {
   "cell_type": "code",
   "execution_count": 3,
   "metadata": {},
   "outputs": [],
   "source": [
    "chmod 600 ${FABRIC_BASTION_PRIVATE_KEY_LOCATION}\n",
    "chmod 600 ${FABRIC_SLICE_PRIVATE_KEY_FILE}"
   ]
  },
  {
   "cell_type": "markdown",
   "metadata": {},
   "source": [
    "## Create the FABRIC Config File \n",
    "\n",
    "\n",
    "The following cell creates the `fabric_rc` file using the values configured above. \n"
   ]
  },
  {
   "cell_type": "code",
   "execution_count": 4,
   "metadata": {},
   "outputs": [],
   "source": [
    "export FABRIC_RC_FILE=${HOME}'/work/fabric_config/fabric_rc'\n",
    "\n",
    "cat <<EOF > ${FABRIC_RC_FILE}\n",
    "export FABRIC_CREDMGR_HOST=cm.fabric-testbed.net\n",
    "export FABRIC_ORCHESTRATOR_HOST=orchestrator.fabric-testbed.net\n",
    "\n",
    "export FABRIC_PROJECT_ID=${FABRIC_PROJECT_ID}\n",
    "export FABRIC_TOKEN_LOCATION=${FABRIC_TOKEN_FILE}\n",
    "\n",
    "export FABRIC_BASTION_HOST=bastion-1.fabric-testbed.net\n",
    "export FABRIC_BASTION_USERNAME=${FABRIC_BASTION_USERNAME}\n",
    "\n",
    "export FABRIC_BASTION_KEY_LOCATION=${FABRIC_BASTION_PRIVATE_KEY_LOCATION}\n",
    "#export FABRIC_BASTION_KEY_PASSPHRASE=\n",
    "\n",
    "export FABRIC_SLICE_PRIVATE_KEY_FILE=${FABRIC_SLICE_PRIVATE_KEY_FILE}\n",
    "export FABRIC_SLICE_PUBLIC_KEY_FILE=${FABRIC_SLICE_PUBLIC_KEY_FILE} \n",
    "#export FABRIC_SLICE_PRIVATE_KEY_PASSPHRASE=\n",
    "\n",
    "export FABRIC_LOG_FILE=/tmp/fablib/fablib.log\n",
    "export FABRIC_LOG_LEVEL=INFO \n",
    "EOF"
   ]
  },
  {
   "cell_type": "markdown",
   "metadata": {},
   "source": [
    "## Create the SSH Config File\n",
    "\n",
    "The following cell creates an SSH config file using the values configure above.  The config file allows you to use ssh to jump through the bastion host from a terminal command line.  After creating this file, you can ssh and pass the file with the `-F` option.\n",
    "\n",
    "Alternatively, you can directly edit your [ssh config](~/fabric_config/ssh_config) file.\n"
   ]
  },
  {
   "cell_type": "code",
   "execution_count": 5,
   "metadata": {},
   "outputs": [],
   "source": [
    "export FABRIC_BASTION_SSH_CONFIG_FILE=${HOME}'/work/fabric_config/ssh_config'\n",
    "\n",
    "cat <<EOF > ${FABRIC_BASTION_SSH_CONFIG_FILE}\n",
    "UserKnownHostsFile /dev/null\n",
    "StrictHostKeyChecking no\n",
    "ServerAliveInterval 120 \n",
    "\n",
    "Host bastion-?.fabric-testbed.net\n",
    "     User ${FABRIC_BASTION_USERNAME}\n",
    "     ForwardAgent yes\n",
    "     Hostname %h\n",
    "     IdentityFile ${FABRIC_BASTION_PRIVATE_KEY_LOCATION}\n",
    "     IdentitiesOnly yes\n",
    "\n",
    "Host * !bastion-?.fabric-testbed.net\n",
    "     ProxyJump ${FABRIC_BASTION_USERNAME}@bastion-1.fabric-testbed.net:22\n",
    "EOF"
   ]
  },
  {
   "cell_type": "code",
   "execution_count": null,
   "metadata": {},
   "outputs": [],
   "source": []
  }
 ],
 "metadata": {
  "kernelspec": {
   "display_name": "Bash",
   "language": "bash",
   "name": "bash"
  },
  "language_info": {
   "codemirror_mode": "shell",
   "file_extension": ".sh",
   "mimetype": "text/x-sh",
   "name": "bash"
  }
 },
 "nbformat": 4,
 "nbformat_minor": 4
}
